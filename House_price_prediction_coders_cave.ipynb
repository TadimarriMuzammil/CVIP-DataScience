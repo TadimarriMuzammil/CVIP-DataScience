{
  "nbformat": 4,
  "nbformat_minor": 0,
  "metadata": {
    "colab": {
      "provenance": []
    },
    "kernelspec": {
      "name": "python3",
      "display_name": "Python 3"
    },
    "language_info": {
      "name": "python"
    }
  },
  "cells": [
    {
      "cell_type": "code",
      "execution_count": null,
      "metadata": {
        "id": "n3fve6rPNe75"
      },
      "outputs": [],
      "source": [
        "#importing Libraries\n",
        "import pandas as pd\n",
        "import numpy as  np"
      ]
    },
    {
      "cell_type": "code",
      "source": [
        "#loading the data set\n",
        "data=pd.read_csv('/content/Hyderabad.csv')\n",
        "print(data.head())\n",
        "data.shape"
      ],
      "metadata": {
        "colab": {
          "base_uri": "https://localhost:8080/"
        },
        "id": "Kw0XrkvoOE0G",
        "outputId": "eac213e4-fd9f-41b3-83d0-d600f41c2c9c"
      },
      "execution_count": null,
      "outputs": [
        {
          "output_type": "stream",
          "name": "stdout",
          "text": [
            "      Price  Area     Location  No. of Bedrooms  Resale  MaintenanceStaff  \\\n",
            "0   6968000  1340     Nizampet                2       0                 0   \n",
            "1  29000000  3498  Hitech City                4       0                 0   \n",
            "2   6590000  1318    Manikonda                2       0                 0   \n",
            "3   5739000  1295        Alwal                3       1                 0   \n",
            "4   5679000  1145   Kukatpally                2       0                 0   \n",
            "\n",
            "   Gymnasium  SwimmingPool  LandscapedGardens  JoggingTrack  ...  \\\n",
            "0          1             1                  1             1  ...   \n",
            "1          1             1                  1             1  ...   \n",
            "2          1             0                  0             0  ...   \n",
            "3          0             0                  0             0  ...   \n",
            "4          0             0                  1             0  ...   \n",
            "\n",
            "   LiftAvailable  BED  VaastuCompliant  Microwave  GolfCourse  TV  \\\n",
            "0              1    0                1          0           0   0   \n",
            "1              1    0                1          0           0   0   \n",
            "2              0    0                0          0           0   0   \n",
            "3              1    0                0          0           0   0   \n",
            "4              1    0                0          0           0   0   \n",
            "\n",
            "   DiningTable  Sofa  Wardrobe  Refrigerator  \n",
            "0            0     0         0             0  \n",
            "1            0     0         0             0  \n",
            "2            0     0         0             0  \n",
            "3            0     0         0             0  \n",
            "4            0     0         0             0  \n",
            "\n",
            "[5 rows x 40 columns]\n"
          ]
        },
        {
          "output_type": "execute_result",
          "data": {
            "text/plain": [
              "(2518, 40)"
            ]
          },
          "metadata": {},
          "execution_count": 38
        }
      ]
    },
    {
      "cell_type": "code",
      "source": [
        "#Description of the data\n",
        "data.info()"
      ],
      "metadata": {
        "colab": {
          "base_uri": "https://localhost:8080/"
        },
        "id": "EZNkCqHyPsQP",
        "outputId": "2ac26adc-e2a7-456d-be69-f3643fa39b38"
      },
      "execution_count": null,
      "outputs": [
        {
          "output_type": "stream",
          "name": "stdout",
          "text": [
            "<class 'pandas.core.frame.DataFrame'>\n",
            "RangeIndex: 2518 entries, 0 to 2517\n",
            "Data columns (total 40 columns):\n",
            " #   Column               Non-Null Count  Dtype \n",
            "---  ------               --------------  ----- \n",
            " 0   Price                2518 non-null   int64 \n",
            " 1   Area                 2518 non-null   int64 \n",
            " 2   Location             2518 non-null   object\n",
            " 3   No. of Bedrooms      2518 non-null   int64 \n",
            " 4   Resale               2518 non-null   int64 \n",
            " 5   MaintenanceStaff     2518 non-null   int64 \n",
            " 6   Gymnasium            2518 non-null   int64 \n",
            " 7   SwimmingPool         2518 non-null   int64 \n",
            " 8   LandscapedGardens    2518 non-null   int64 \n",
            " 9   JoggingTrack         2518 non-null   int64 \n",
            " 10  RainWaterHarvesting  2518 non-null   int64 \n",
            " 11  IndoorGames          2518 non-null   int64 \n",
            " 12  ShoppingMall         2518 non-null   int64 \n",
            " 13  Intercom             2518 non-null   int64 \n",
            " 14  SportsFacility       2518 non-null   int64 \n",
            " 15  ATM                  2518 non-null   int64 \n",
            " 16  ClubHouse            2518 non-null   int64 \n",
            " 17  School               2518 non-null   int64 \n",
            " 18  24X7Security         2518 non-null   int64 \n",
            " 19  PowerBackup          2518 non-null   int64 \n",
            " 20  CarParking           2518 non-null   int64 \n",
            " 21  StaffQuarter         2518 non-null   int64 \n",
            " 22  Cafeteria            2518 non-null   int64 \n",
            " 23  MultipurposeRoom     2518 non-null   int64 \n",
            " 24  Hospital             2518 non-null   int64 \n",
            " 25  WashingMachine       2518 non-null   int64 \n",
            " 26  Gasconnection        2518 non-null   int64 \n",
            " 27  AC                   2518 non-null   int64 \n",
            " 28  Wifi                 2518 non-null   int64 \n",
            " 29  Children'splayarea   2518 non-null   int64 \n",
            " 30  LiftAvailable        2518 non-null   int64 \n",
            " 31  BED                  2518 non-null   int64 \n",
            " 32  VaastuCompliant      2518 non-null   int64 \n",
            " 33  Microwave            2518 non-null   int64 \n",
            " 34  GolfCourse           2518 non-null   int64 \n",
            " 35  TV                   2518 non-null   int64 \n",
            " 36  DiningTable          2518 non-null   int64 \n",
            " 37  Sofa                 2518 non-null   int64 \n",
            " 38  Wardrobe             2518 non-null   int64 \n",
            " 39  Refrigerator         2518 non-null   int64 \n",
            "dtypes: int64(39), object(1)\n",
            "memory usage: 787.0+ KB\n"
          ]
        }
      ]
    },
    {
      "cell_type": "code",
      "source": [
        "#Extracting the required columns of the Data Set to a new Data Frame\n",
        "security=data['24X7Security']\n",
        "lift=data['LiftAvailable']\n",
        "resale=data['Resale']\n",
        "car_parking=data['CarParking']\n",
        "MaintenanceStaff =data['MaintenanceStaff']\n",
        "VaastuCompliant=data['VaastuCompliant']\n",
        "data1=data.iloc[:,:4]\n",
        "data1['security']=security\n",
        "data1['lift_available']=lift\n",
        "data1['Resale']=resale\n",
        "data1['CarParking']=car_parking\n",
        "data1['MaintenanceStaff']=MaintenanceStaff\n",
        "data1['VaastuCompliant']=VaastuCompliant\n",
        "print(data1)\n"
      ],
      "metadata": {
        "colab": {
          "base_uri": "https://localhost:8080/"
        },
        "id": "ts3tojLBQl4x",
        "outputId": "bda23a5a-568c-415c-83f9-0f73a0053250"
      },
      "execution_count": null,
      "outputs": [
        {
          "output_type": "stream",
          "name": "stdout",
          "text": [
            "         Price  Area     Location  No. of Bedrooms  security  lift_available  \\\n",
            "0      6968000  1340     Nizampet                2         1               1   \n",
            "1     29000000  3498  Hitech City                4         1               1   \n",
            "2      6590000  1318    Manikonda                2         0               0   \n",
            "3      5739000  1295        Alwal                3         0               1   \n",
            "4      5679000  1145   Kukatpally                2         0               1   \n",
            "...        ...   ...          ...              ...       ...             ...   \n",
            "2513  11000000  1460     Nacharam                2         9               9   \n",
            "2514  26000000  1314    Manikonda                2         9               9   \n",
            "2515  13300000  2625     Madhapur                3         9               9   \n",
            "2516  10800000  2050  Hitech City                3         9               9   \n",
            "2517  10400000  1805     Narsingi                3         9               9   \n",
            "\n",
            "      Resale  CarParking  MaintenanceStaff  VaastuCompliant  \n",
            "0          0           1                 0                1  \n",
            "1          0           1                 0                1  \n",
            "2          0           0                 0                0  \n",
            "3          1           0                 0                0  \n",
            "4          0           1                 0                0  \n",
            "...      ...         ...               ...              ...  \n",
            "2513       1           9                 9                9  \n",
            "2514       1           9                 9                9  \n",
            "2515       1           9                 9                9  \n",
            "2516       0           9                 9                9  \n",
            "2517       0           9                 9                9  \n",
            "\n",
            "[2518 rows x 10 columns]\n"
          ]
        }
      ]
    },
    {
      "cell_type": "code",
      "source": [
        "#printing the count of unique data values\n",
        "for c in data1.columns:\n",
        "  print(data1[c].value_counts())\n",
        "  print(\"*\"*20)"
      ],
      "metadata": {
        "colab": {
          "base_uri": "https://localhost:8080/"
        },
        "id": "1qMW_RsoZMsb",
        "outputId": "23630000-a722-4b48-91e7-808e6b4786c5"
      },
      "execution_count": null,
      "outputs": [
        {
          "output_type": "stream",
          "name": "stdout",
          "text": [
            "3500000    48\n",
            "3900000    46\n",
            "6000000    45\n",
            "4500000    43\n",
            "8000000    39\n",
            "           ..\n",
            "6656999     1\n",
            "6312000     1\n",
            "5166000     1\n",
            "5367000     1\n",
            "6250000     1\n",
            "Name: Price, Length: 690, dtype: int64\n",
            "********************\n",
            "1100    76\n",
            "1150    76\n",
            "1200    69\n",
            "1050    67\n",
            "1515    50\n",
            "        ..\n",
            "1334     1\n",
            "1355     1\n",
            "1738     1\n",
            "3049     1\n",
            "1805     1\n",
            "Name: Area, Length: 579, dtype: int64\n",
            "********************\n",
            "Kukatpally                       166\n",
            "Kondapur                         149\n",
            "Manikonda                        115\n",
            "Nizampet                         106\n",
            "Gachibowli                        83\n",
            "                                ... \n",
            "Basheer Bagh                       1\n",
            "Miyapur HMT Swarnapuri Colony      1\n",
            "Adda Gutta                         1\n",
            "Mayuri Nagar                       1\n",
            "Paradise Circle                    1\n",
            "Name: Location, Length: 243, dtype: int64\n",
            "********************\n",
            "3    1207\n",
            "2    1090\n",
            "4     160\n",
            "1      37\n",
            "5      20\n",
            "8       2\n",
            "6       2\n",
            "Name: No. of Bedrooms, dtype: int64\n",
            "********************\n",
            "0    1411\n",
            "1    1023\n",
            "9      84\n",
            "Name: security, dtype: int64\n",
            "********************\n",
            "1    1701\n",
            "0     733\n",
            "9      84\n",
            "Name: lift_available, dtype: int64\n",
            "********************\n",
            "0    1945\n",
            "1     573\n",
            "Name: Resale, dtype: int64\n",
            "********************\n",
            "0    1336\n",
            "1    1098\n",
            "9      84\n",
            "Name: CarParking, dtype: int64\n",
            "********************\n",
            "0    2151\n",
            "1     283\n",
            "9      84\n",
            "Name: MaintenanceStaff, dtype: int64\n",
            "********************\n",
            "0    1661\n",
            "1     773\n",
            "9      84\n",
            "Name: VaastuCompliant, dtype: int64\n",
            "********************\n"
          ]
        }
      ]
    },
    {
      "cell_type": "code",
      "source": [
        "#removing some inconsistent data\n",
        "arr=[]\n",
        "for i in range(2434,2518):\n",
        "  arr.append(i)\n",
        "data1=data1.drop(arr)"
      ],
      "metadata": {
        "id": "tl-Q08yUE98Y"
      },
      "execution_count": null,
      "outputs": []
    },
    {
      "cell_type": "code",
      "source": [
        "locationcounts=data1['Location'].value_counts()\n",
        "locationcount_lessthan_10=locationcounts[locationcounts<=10]\n",
        "print(locationcount_lessthan_10)"
      ],
      "metadata": {
        "colab": {
          "base_uri": "https://localhost:8080/"
        },
        "id": "qvenu1l0fT-I",
        "outputId": "ffb7ff15-398f-48b2-d3b5-57afcf61741d"
      },
      "execution_count": null,
      "outputs": [
        {
          "output_type": "stream",
          "name": "stdout",
          "text": [
            "Gandipet                  10\n",
            "Mehdipatnam               10\n",
            "Nallakunta                 9\n",
            "Chaitanyapuri              9\n",
            "Pati                       9\n",
            "                          ..\n",
            "ALIND Employees Colony     1\n",
            "Ameerpet                   1\n",
            "Methodist Colony           1\n",
            "NRSA Colony                1\n",
            "chandrayangutta            1\n",
            "Name: Location, Length: 187, dtype: int64\n"
          ]
        }
      ]
    },
    {
      "cell_type": "code",
      "source": [
        "data1['Location']=data['Location'].apply(lambda x:\"Other\" if x in locationcount_lessthan_10 else x)\n",
        "data1['Location'].value_counts()\n",
        "data1['Location'].value_counts()"
      ],
      "metadata": {
        "colab": {
          "base_uri": "https://localhost:8080/"
        },
        "id": "iqhC8-G1fZIX",
        "outputId": "542fea7e-daad-4a2d-a6d3-d759cd4d3f5b"
      },
      "execution_count": null,
      "outputs": [
        {
          "output_type": "execute_result",
          "data": {
            "text/plain": [
              "Other                        469\n",
              "Kukatpally                   163\n",
              "Kondapur                     142\n",
              "Manikonda                    112\n",
              "Nizampet                     104\n",
              "Hitech City                   81\n",
              "Gachibowli                    80\n",
              "Kokapet                       79\n",
              "Miyapur                       78\n",
              "Pragathi Nagar Kukatpally     56\n",
              "Bachupally Road               55\n",
              "Puppalaguda                   51\n",
              "Narsingi                      50\n",
              "Gajularamaram                 48\n",
              "Nanakramguda                  45\n",
              "Beeramguda                    45\n",
              "Banjara Hills                 44\n",
              "Appa Junction                 43\n",
              "Tellapur                      43\n",
              "Jubilee Hills                 41\n",
              "Serilingampally               41\n",
              "Krishna Reddy Pet             34\n",
              "Madhapur                      31\n",
              "Appa Junction Peerancheru     28\n",
              "Nallagandla Gachibowli        28\n",
              "Bachupally                    27\n",
              "Malkajgiri                    22\n",
              "Mallampet                     22\n",
              "Begumpet                      21\n",
              "Aminpur                       20\n",
              "Alwal                         20\n",
              "Sanath Nagar                  18\n",
              "Balanagar                     18\n",
              "Mallapur                      18\n",
              "West Marredpally              17\n",
              "Kollur Road                   16\n",
              "Attapur                       16\n",
              "Nagole                        16\n",
              "Patancheru                    15\n",
              "Kompally                      15\n",
              "Bandlaguda Jagir              15\n",
              "Chandanagar                   14\n",
              "East Marredpally              14\n",
              "Adibatla                      13\n",
              "LB Nagar                      13\n",
              "Shaikpet                      13\n",
              "Tarnaka                       12\n",
              "Gajulramaram Kukatpally       12\n",
              "Madinaguda                    12\n",
              "TellapurOsman Nagar Road      11\n",
              "Kachiguda                     11\n",
              "Darga Khaliz Khan             11\n",
              "Toli Chowki                   11\n",
              "Name: Location, dtype: int64"
            ]
          },
          "metadata": {},
          "execution_count": 45
        }
      ]
    },
    {
      "cell_type": "code",
      "source": [
        "print(data1.isna().sum())\n",
        "data1.describe()\n",
        "data1"
      ],
      "metadata": {
        "colab": {
          "base_uri": "https://localhost:8080/",
          "height": 614
        },
        "id": "0SwMybIxbLr7",
        "outputId": "810eb847-4af2-4792-a278-49d40fdf144b"
      },
      "execution_count": null,
      "outputs": [
        {
          "output_type": "stream",
          "name": "stdout",
          "text": [
            "Price               0\n",
            "Area                0\n",
            "Location            0\n",
            "No. of Bedrooms     0\n",
            "security            0\n",
            "lift_available      0\n",
            "Resale              0\n",
            "CarParking          0\n",
            "MaintenanceStaff    0\n",
            "VaastuCompliant     0\n",
            "dtype: int64\n"
          ]
        },
        {
          "output_type": "execute_result",
          "data": {
            "text/plain": [
              "         Price  Area       Location  No. of Bedrooms  security  \\\n",
              "0      6968000  1340       Nizampet                2         1   \n",
              "1     29000000  3498    Hitech City                4         1   \n",
              "2      6590000  1318      Manikonda                2         0   \n",
              "3      5739000  1295          Alwal                3         0   \n",
              "4      5679000  1145     Kukatpally                2         0   \n",
              "...        ...   ...            ...              ...       ...   \n",
              "2429   4500000  1250    Kollur Road                2         0   \n",
              "2430   3503000  1001        Miyapur                2         0   \n",
              "2431   5600000  1551          Other                3         0   \n",
              "2432   7500000  3000  Jubilee Hills                3         0   \n",
              "2433   4600000  1245    Kollur Road                2         0   \n",
              "\n",
              "      lift_available  Resale  CarParking  MaintenanceStaff  VaastuCompliant  \n",
              "0                  1       0           1                 0                1  \n",
              "1                  1       0           1                 0                1  \n",
              "2                  0       0           0                 0                0  \n",
              "3                  1       1           0                 0                0  \n",
              "4                  1       0           1                 0                0  \n",
              "...              ...     ...         ...               ...              ...  \n",
              "2429               0       0           0                 0                0  \n",
              "2430               0       0           0                 0                0  \n",
              "2431               0       0           0                 0                0  \n",
              "2432               0       1           1                 1                1  \n",
              "2433               0       0           0                 0                0  \n",
              "\n",
              "[2434 rows x 10 columns]"
            ],
            "text/html": [
              "\n",
              "\n",
              "  <div id=\"df-cfbf09d7-73ab-454b-b931-300339b7ef41\">\n",
              "    <div class=\"colab-df-container\">\n",
              "      <div>\n",
              "<style scoped>\n",
              "    .dataframe tbody tr th:only-of-type {\n",
              "        vertical-align: middle;\n",
              "    }\n",
              "\n",
              "    .dataframe tbody tr th {\n",
              "        vertical-align: top;\n",
              "    }\n",
              "\n",
              "    .dataframe thead th {\n",
              "        text-align: right;\n",
              "    }\n",
              "</style>\n",
              "<table border=\"1\" class=\"dataframe\">\n",
              "  <thead>\n",
              "    <tr style=\"text-align: right;\">\n",
              "      <th></th>\n",
              "      <th>Price</th>\n",
              "      <th>Area</th>\n",
              "      <th>Location</th>\n",
              "      <th>No. of Bedrooms</th>\n",
              "      <th>security</th>\n",
              "      <th>lift_available</th>\n",
              "      <th>Resale</th>\n",
              "      <th>CarParking</th>\n",
              "      <th>MaintenanceStaff</th>\n",
              "      <th>VaastuCompliant</th>\n",
              "    </tr>\n",
              "  </thead>\n",
              "  <tbody>\n",
              "    <tr>\n",
              "      <th>0</th>\n",
              "      <td>6968000</td>\n",
              "      <td>1340</td>\n",
              "      <td>Nizampet</td>\n",
              "      <td>2</td>\n",
              "      <td>1</td>\n",
              "      <td>1</td>\n",
              "      <td>0</td>\n",
              "      <td>1</td>\n",
              "      <td>0</td>\n",
              "      <td>1</td>\n",
              "    </tr>\n",
              "    <tr>\n",
              "      <th>1</th>\n",
              "      <td>29000000</td>\n",
              "      <td>3498</td>\n",
              "      <td>Hitech City</td>\n",
              "      <td>4</td>\n",
              "      <td>1</td>\n",
              "      <td>1</td>\n",
              "      <td>0</td>\n",
              "      <td>1</td>\n",
              "      <td>0</td>\n",
              "      <td>1</td>\n",
              "    </tr>\n",
              "    <tr>\n",
              "      <th>2</th>\n",
              "      <td>6590000</td>\n",
              "      <td>1318</td>\n",
              "      <td>Manikonda</td>\n",
              "      <td>2</td>\n",
              "      <td>0</td>\n",
              "      <td>0</td>\n",
              "      <td>0</td>\n",
              "      <td>0</td>\n",
              "      <td>0</td>\n",
              "      <td>0</td>\n",
              "    </tr>\n",
              "    <tr>\n",
              "      <th>3</th>\n",
              "      <td>5739000</td>\n",
              "      <td>1295</td>\n",
              "      <td>Alwal</td>\n",
              "      <td>3</td>\n",
              "      <td>0</td>\n",
              "      <td>1</td>\n",
              "      <td>1</td>\n",
              "      <td>0</td>\n",
              "      <td>0</td>\n",
              "      <td>0</td>\n",
              "    </tr>\n",
              "    <tr>\n",
              "      <th>4</th>\n",
              "      <td>5679000</td>\n",
              "      <td>1145</td>\n",
              "      <td>Kukatpally</td>\n",
              "      <td>2</td>\n",
              "      <td>0</td>\n",
              "      <td>1</td>\n",
              "      <td>0</td>\n",
              "      <td>1</td>\n",
              "      <td>0</td>\n",
              "      <td>0</td>\n",
              "    </tr>\n",
              "    <tr>\n",
              "      <th>...</th>\n",
              "      <td>...</td>\n",
              "      <td>...</td>\n",
              "      <td>...</td>\n",
              "      <td>...</td>\n",
              "      <td>...</td>\n",
              "      <td>...</td>\n",
              "      <td>...</td>\n",
              "      <td>...</td>\n",
              "      <td>...</td>\n",
              "      <td>...</td>\n",
              "    </tr>\n",
              "    <tr>\n",
              "      <th>2429</th>\n",
              "      <td>4500000</td>\n",
              "      <td>1250</td>\n",
              "      <td>Kollur Road</td>\n",
              "      <td>2</td>\n",
              "      <td>0</td>\n",
              "      <td>0</td>\n",
              "      <td>0</td>\n",
              "      <td>0</td>\n",
              "      <td>0</td>\n",
              "      <td>0</td>\n",
              "    </tr>\n",
              "    <tr>\n",
              "      <th>2430</th>\n",
              "      <td>3503000</td>\n",
              "      <td>1001</td>\n",
              "      <td>Miyapur</td>\n",
              "      <td>2</td>\n",
              "      <td>0</td>\n",
              "      <td>0</td>\n",
              "      <td>0</td>\n",
              "      <td>0</td>\n",
              "      <td>0</td>\n",
              "      <td>0</td>\n",
              "    </tr>\n",
              "    <tr>\n",
              "      <th>2431</th>\n",
              "      <td>5600000</td>\n",
              "      <td>1551</td>\n",
              "      <td>Other</td>\n",
              "      <td>3</td>\n",
              "      <td>0</td>\n",
              "      <td>0</td>\n",
              "      <td>0</td>\n",
              "      <td>0</td>\n",
              "      <td>0</td>\n",
              "      <td>0</td>\n",
              "    </tr>\n",
              "    <tr>\n",
              "      <th>2432</th>\n",
              "      <td>7500000</td>\n",
              "      <td>3000</td>\n",
              "      <td>Jubilee Hills</td>\n",
              "      <td>3</td>\n",
              "      <td>0</td>\n",
              "      <td>0</td>\n",
              "      <td>1</td>\n",
              "      <td>1</td>\n",
              "      <td>1</td>\n",
              "      <td>1</td>\n",
              "    </tr>\n",
              "    <tr>\n",
              "      <th>2433</th>\n",
              "      <td>4600000</td>\n",
              "      <td>1245</td>\n",
              "      <td>Kollur Road</td>\n",
              "      <td>2</td>\n",
              "      <td>0</td>\n",
              "      <td>0</td>\n",
              "      <td>0</td>\n",
              "      <td>0</td>\n",
              "      <td>0</td>\n",
              "      <td>0</td>\n",
              "    </tr>\n",
              "  </tbody>\n",
              "</table>\n",
              "<p>2434 rows × 10 columns</p>\n",
              "</div>\n",
              "      <button class=\"colab-df-convert\" onclick=\"convertToInteractive('df-cfbf09d7-73ab-454b-b931-300339b7ef41')\"\n",
              "              title=\"Convert this dataframe to an interactive table.\"\n",
              "              style=\"display:none;\">\n",
              "\n",
              "  <svg xmlns=\"http://www.w3.org/2000/svg\" height=\"24px\"viewBox=\"0 0 24 24\"\n",
              "       width=\"24px\">\n",
              "    <path d=\"M0 0h24v24H0V0z\" fill=\"none\"/>\n",
              "    <path d=\"M18.56 5.44l.94 2.06.94-2.06 2.06-.94-2.06-.94-.94-2.06-.94 2.06-2.06.94zm-11 1L8.5 8.5l.94-2.06 2.06-.94-2.06-.94L8.5 2.5l-.94 2.06-2.06.94zm10 10l.94 2.06.94-2.06 2.06-.94-2.06-.94-.94-2.06-.94 2.06-2.06.94z\"/><path d=\"M17.41 7.96l-1.37-1.37c-.4-.4-.92-.59-1.43-.59-.52 0-1.04.2-1.43.59L10.3 9.45l-7.72 7.72c-.78.78-.78 2.05 0 2.83L4 21.41c.39.39.9.59 1.41.59.51 0 1.02-.2 1.41-.59l7.78-7.78 2.81-2.81c.8-.78.8-2.07 0-2.86zM5.41 20L4 18.59l7.72-7.72 1.47 1.35L5.41 20z\"/>\n",
              "  </svg>\n",
              "      </button>\n",
              "\n",
              "\n",
              "\n",
              "    <div id=\"df-7214742b-db05-4d5c-a08e-5316d1096bd4\">\n",
              "      <button class=\"colab-df-quickchart\" onclick=\"quickchart('df-7214742b-db05-4d5c-a08e-5316d1096bd4')\"\n",
              "              title=\"Suggest charts.\"\n",
              "              style=\"display:none;\">\n",
              "\n",
              "<svg xmlns=\"http://www.w3.org/2000/svg\" height=\"24px\"viewBox=\"0 0 24 24\"\n",
              "     width=\"24px\">\n",
              "    <g>\n",
              "        <path d=\"M19 3H5c-1.1 0-2 .9-2 2v14c0 1.1.9 2 2 2h14c1.1 0 2-.9 2-2V5c0-1.1-.9-2-2-2zM9 17H7v-7h2v7zm4 0h-2V7h2v10zm4 0h-2v-4h2v4z\"/>\n",
              "    </g>\n",
              "</svg>\n",
              "      </button>\n",
              "    </div>\n",
              "\n",
              "<style>\n",
              "  .colab-df-quickchart {\n",
              "    background-color: #E8F0FE;\n",
              "    border: none;\n",
              "    border-radius: 50%;\n",
              "    cursor: pointer;\n",
              "    display: none;\n",
              "    fill: #1967D2;\n",
              "    height: 32px;\n",
              "    padding: 0 0 0 0;\n",
              "    width: 32px;\n",
              "  }\n",
              "\n",
              "  .colab-df-quickchart:hover {\n",
              "    background-color: #E2EBFA;\n",
              "    box-shadow: 0px 1px 2px rgba(60, 64, 67, 0.3), 0px 1px 3px 1px rgba(60, 64, 67, 0.15);\n",
              "    fill: #174EA6;\n",
              "  }\n",
              "\n",
              "  [theme=dark] .colab-df-quickchart {\n",
              "    background-color: #3B4455;\n",
              "    fill: #D2E3FC;\n",
              "  }\n",
              "\n",
              "  [theme=dark] .colab-df-quickchart:hover {\n",
              "    background-color: #434B5C;\n",
              "    box-shadow: 0px 1px 3px 1px rgba(0, 0, 0, 0.15);\n",
              "    filter: drop-shadow(0px 1px 2px rgba(0, 0, 0, 0.3));\n",
              "    fill: #FFFFFF;\n",
              "  }\n",
              "</style>\n",
              "\n",
              "    <script>\n",
              "      async function quickchart(key) {\n",
              "        const containerElement = document.querySelector('#' + key);\n",
              "        const charts = await google.colab.kernel.invokeFunction(\n",
              "            'suggestCharts', [key], {});\n",
              "      }\n",
              "    </script>\n",
              "\n",
              "      <script>\n",
              "\n",
              "function displayQuickchartButton(domScope) {\n",
              "  let quickchartButtonEl =\n",
              "    domScope.querySelector('#df-7214742b-db05-4d5c-a08e-5316d1096bd4 button.colab-df-quickchart');\n",
              "  quickchartButtonEl.style.display =\n",
              "    google.colab.kernel.accessAllowed ? 'block' : 'none';\n",
              "}\n",
              "\n",
              "        displayQuickchartButton(document);\n",
              "      </script>\n",
              "      <style>\n",
              "    .colab-df-container {\n",
              "      display:flex;\n",
              "      flex-wrap:wrap;\n",
              "      gap: 12px;\n",
              "    }\n",
              "\n",
              "    .colab-df-convert {\n",
              "      background-color: #E8F0FE;\n",
              "      border: none;\n",
              "      border-radius: 50%;\n",
              "      cursor: pointer;\n",
              "      display: none;\n",
              "      fill: #1967D2;\n",
              "      height: 32px;\n",
              "      padding: 0 0 0 0;\n",
              "      width: 32px;\n",
              "    }\n",
              "\n",
              "    .colab-df-convert:hover {\n",
              "      background-color: #E2EBFA;\n",
              "      box-shadow: 0px 1px 2px rgba(60, 64, 67, 0.3), 0px 1px 3px 1px rgba(60, 64, 67, 0.15);\n",
              "      fill: #174EA6;\n",
              "    }\n",
              "\n",
              "    [theme=dark] .colab-df-convert {\n",
              "      background-color: #3B4455;\n",
              "      fill: #D2E3FC;\n",
              "    }\n",
              "\n",
              "    [theme=dark] .colab-df-convert:hover {\n",
              "      background-color: #434B5C;\n",
              "      box-shadow: 0px 1px 3px 1px rgba(0, 0, 0, 0.15);\n",
              "      filter: drop-shadow(0px 1px 2px rgba(0, 0, 0, 0.3));\n",
              "      fill: #FFFFFF;\n",
              "    }\n",
              "  </style>\n",
              "\n",
              "      <script>\n",
              "        const buttonEl =\n",
              "          document.querySelector('#df-cfbf09d7-73ab-454b-b931-300339b7ef41 button.colab-df-convert');\n",
              "        buttonEl.style.display =\n",
              "          google.colab.kernel.accessAllowed ? 'block' : 'none';\n",
              "\n",
              "        async function convertToInteractive(key) {\n",
              "          const element = document.querySelector('#df-cfbf09d7-73ab-454b-b931-300339b7ef41');\n",
              "          const dataTable =\n",
              "            await google.colab.kernel.invokeFunction('convertToInteractive',\n",
              "                                                     [key], {});\n",
              "          if (!dataTable) return;\n",
              "\n",
              "          const docLinkHtml = 'Like what you see? Visit the ' +\n",
              "            '<a target=\"_blank\" href=https://colab.research.google.com/notebooks/data_table.ipynb>data table notebook</a>'\n",
              "            + ' to learn more about interactive tables.';\n",
              "          element.innerHTML = '';\n",
              "          dataTable['output_type'] = 'display_data';\n",
              "          await google.colab.output.renderOutput(dataTable, element);\n",
              "          const docLink = document.createElement('div');\n",
              "          docLink.innerHTML = docLinkHtml;\n",
              "          element.appendChild(docLink);\n",
              "        }\n",
              "      </script>\n",
              "    </div>\n",
              "  </div>\n"
            ]
          },
          "metadata": {},
          "execution_count": 46
        }
      ]
    },
    {
      "cell_type": "code",
      "source": [
        "#Splitiing the Data to Dependent and Independent Variables\n",
        "x=data1.iloc[:,1:]\n",
        "y=data1['Price']\n",
        "print(x.head())\n",
        "print(y.head())"
      ],
      "metadata": {
        "id": "9sswrKj6PeuS",
        "colab": {
          "base_uri": "https://localhost:8080/"
        },
        "outputId": "ddd962a7-be10-473f-a060-f93a3247b148"
      },
      "execution_count": null,
      "outputs": [
        {
          "output_type": "stream",
          "name": "stdout",
          "text": [
            "   Area     Location  No. of Bedrooms  security  lift_available  Resale  \\\n",
            "0  1340     Nizampet                2         1               1       0   \n",
            "1  3498  Hitech City                4         1               1       0   \n",
            "2  1318    Manikonda                2         0               0       0   \n",
            "3  1295        Alwal                3         0               1       1   \n",
            "4  1145   Kukatpally                2         0               1       0   \n",
            "\n",
            "   CarParking  MaintenanceStaff  VaastuCompliant  \n",
            "0           1                 0                1  \n",
            "1           1                 0                1  \n",
            "2           0                 0                0  \n",
            "3           0                 0                0  \n",
            "4           1                 0                0  \n",
            "0     6968000\n",
            "1    29000000\n",
            "2     6590000\n",
            "3     5739000\n",
            "4     5679000\n",
            "Name: Price, dtype: int64\n"
          ]
        }
      ]
    },
    {
      "cell_type": "code",
      "source": [
        "#importing Models from sklearn\n",
        "from sklearn.model_selection import train_test_split\n",
        "from sklearn.linear_model import LinearRegression,Lasso,Ridge\n",
        "from sklearn.preprocessing import OneHotEncoder,StandardScaler\n",
        "from sklearn.compose import make_column_transformer\n",
        "from sklearn.pipeline import make_pipeline\n",
        "from sklearn.metrics import r2_score"
      ],
      "metadata": {
        "id": "krF_jxCRQzxb"
      },
      "execution_count": null,
      "outputs": []
    },
    {
      "cell_type": "code",
      "source": [
        "#Splitting the Data\n",
        "x_train,x_test,y_train,y_test=train_test_split(x,y,test_size=0.2,random_state=0)\n",
        "print(x_train.shape)\n",
        "print(x_test.shape)"
      ],
      "metadata": {
        "colab": {
          "base_uri": "https://localhost:8080/"
        },
        "id": "6OsDnLQoHiHb",
        "outputId": "d8e74dcc-47b1-4418-b6c8-65a0187e6264"
      },
      "execution_count": null,
      "outputs": [
        {
          "output_type": "stream",
          "name": "stdout",
          "text": [
            "(1947, 9)\n",
            "(487, 9)\n"
          ]
        }
      ]
    },
    {
      "cell_type": "code",
      "source": [
        "# Applying linear regression\n",
        "col_trans=make_column_transformer((OneHotEncoder(sparse_output=False),['Location']),remainder='passthrough')\n",
        "sr=StandardScaler()\n",
        "lr=LinearRegression()\n",
        "pipe=make_pipeline(col_trans,sr,lr)\n",
        "pipe.fit(x_train,y_train)\n",
        "y_predict=pipe.predict(x_test)\n",
        "r2_score(y_test,y_predict)"
      ],
      "metadata": {
        "colab": {
          "base_uri": "https://localhost:8080/"
        },
        "id": "6bjqMaBvJevH",
        "outputId": "c103949d-90e0-446b-b8a5-537e99ca3744"
      },
      "execution_count": null,
      "outputs": [
        {
          "output_type": "execute_result",
          "data": {
            "text/plain": [
              "0.872852278878097"
            ]
          },
          "metadata": {},
          "execution_count": 50
        }
      ]
    },
    {
      "cell_type": "code",
      "source": [
        "#Applying lasso\n",
        "lasso=Lasso()\n",
        "pipe=make_pipeline(col_trans,sr,lasso)\n",
        "pipe.fit(x_train,y_train)\n",
        "y_predict_las=pipe.predict(x_test)\n",
        "r2_score(y_test,y_predict_las)"
      ],
      "metadata": {
        "colab": {
          "base_uri": "https://localhost:8080/"
        },
        "id": "0R-E9bwnLTYr",
        "outputId": "5966be0e-d45a-4984-c600-7344b1cb068b"
      },
      "execution_count": null,
      "outputs": [
        {
          "output_type": "stream",
          "name": "stderr",
          "text": [
            "/usr/local/lib/python3.10/dist-packages/sklearn/linear_model/_coordinate_descent.py:631: ConvergenceWarning: Objective did not converge. You might want to increase the number of iterations, check the scale of the features or consider increasing regularisation. Duality gap: 1.002e+15, tolerance: 1.551e+13\n",
            "  model = cd_fast.enet_coordinate_descent(\n"
          ]
        },
        {
          "output_type": "execute_result",
          "data": {
            "text/plain": [
              "0.8729492502445797"
            ]
          },
          "metadata": {},
          "execution_count": 51
        }
      ]
    },
    {
      "cell_type": "code",
      "source": [
        "#Applying ridge\n",
        "ridge=Ridge()\n",
        "pipe=make_pipeline(col_trans,sr,ridge)\n",
        "pipe.fit(x_train,y_train)\n",
        "y_predict_ridge=pipe.predict(x_test)\n",
        "print(r2_score(y_test,y_predict_ridge))\n",
        "# From the 3 Regressions, Ridge have high r2_score\n",
        "#So we Use Ridge regression for Predicting\n",
        "inp=pd.DataFrame([[1318,\"Manikonda\",2,0,0,0,0,0,0]],columns=[\"Area\",\"Location\",\"No. of Bedrooms\",\"security\",\"lift_available\",\"Resale\",\"CarParking\",\"MaintenanceStaff\",\"VaastuCompliant\"])\n",
        "output=pipe.predict(inp)[0]\n",
        "output=np.round(output,2)\n",
        "print(\"Predicted value is :- \"+\"Rs\",output)"
      ],
      "metadata": {
        "colab": {
          "base_uri": "https://localhost:8080/"
        },
        "id": "nTTFBBwdMFSe",
        "outputId": "3453c652-0902-4fe4-f09d-fcdb046ef48e"
      },
      "execution_count": null,
      "outputs": [
        {
          "output_type": "stream",
          "name": "stdout",
          "text": [
            "0.87298945048625\n",
            "Predicted value is :- Rs 6113344.59\n"
          ]
        }
      ]
    },
    {
      "cell_type": "code",
      "source": [],
      "metadata": {
        "id": "lmMa1tRIuXSR"
      },
      "execution_count": null,
      "outputs": []
    }
  ]
}